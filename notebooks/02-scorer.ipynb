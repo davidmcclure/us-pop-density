{
 "cells": [
  {
   "cell_type": "code",
   "execution_count": 29,
   "metadata": {},
   "outputs": [],
   "source": [
    "import pandas as pd\n",
    "import geopandas\n",
    "import numpy as np\n",
    "\n",
    "from tqdm import tqdm\n",
    "from shapely.geometry import Point\n",
    "from geopy.distance import great_circle\n",
    "from scipy import stats\n",
    "from multiprocessing import Pool"
   ]
  },
  {
   "cell_type": "code",
   "execution_count": 3,
   "metadata": {},
   "outputs": [],
   "source": [
    "import matplotlib as mpl\n",
    "import matplotlib.pyplot as plt\n",
    "\n",
    "%matplotlib inline\n",
    "mpl.style.use('seaborn-muted')"
   ]
  },
  {
   "cell_type": "code",
   "execution_count": 4,
   "metadata": {},
   "outputs": [],
   "source": [
    "df = pd.read_table('../data/Gaz_places_national.txt', encoding='ISO-8859-1')"
   ]
  },
  {
   "cell_type": "code",
   "execution_count": 5,
   "metadata": {},
   "outputs": [
    {
     "data": {
      "text/html": [
       "<div>\n",
       "<style scoped>\n",
       "    .dataframe tbody tr th:only-of-type {\n",
       "        vertical-align: middle;\n",
       "    }\n",
       "\n",
       "    .dataframe tbody tr th {\n",
       "        vertical-align: top;\n",
       "    }\n",
       "\n",
       "    .dataframe thead th {\n",
       "        text-align: right;\n",
       "    }\n",
       "</style>\n",
       "<table border=\"1\" class=\"dataframe\">\n",
       "  <thead>\n",
       "    <tr style=\"text-align: right;\">\n",
       "      <th></th>\n",
       "      <th>USPS</th>\n",
       "      <th>GEOID</th>\n",
       "      <th>ANSICODE</th>\n",
       "      <th>NAME</th>\n",
       "      <th>LSAD</th>\n",
       "      <th>FUNCSTAT</th>\n",
       "      <th>POP10</th>\n",
       "      <th>HU10</th>\n",
       "      <th>ALAND</th>\n",
       "      <th>AWATER</th>\n",
       "      <th>ALAND_SQMI</th>\n",
       "      <th>AWATER_SQMI</th>\n",
       "      <th>INTPTLAT</th>\n",
       "      <th>INTPTLONG</th>\n",
       "    </tr>\n",
       "  </thead>\n",
       "  <tbody>\n",
       "    <tr>\n",
       "      <th>0</th>\n",
       "      <td>AL</td>\n",
       "      <td>100100</td>\n",
       "      <td>2582661</td>\n",
       "      <td>Abanda CDP</td>\n",
       "      <td>57</td>\n",
       "      <td>S</td>\n",
       "      <td>192</td>\n",
       "      <td>79</td>\n",
       "      <td>7764035</td>\n",
       "      <td>34284</td>\n",
       "      <td>2.998</td>\n",
       "      <td>0.013</td>\n",
       "      <td>33.091627</td>\n",
       "      <td>-85.527029</td>\n",
       "    </tr>\n",
       "    <tr>\n",
       "      <th>1</th>\n",
       "      <td>AL</td>\n",
       "      <td>100124</td>\n",
       "      <td>2403054</td>\n",
       "      <td>Abbeville city</td>\n",
       "      <td>25</td>\n",
       "      <td>A</td>\n",
       "      <td>2688</td>\n",
       "      <td>1255</td>\n",
       "      <td>40255352</td>\n",
       "      <td>107642</td>\n",
       "      <td>15.543</td>\n",
       "      <td>0.042</td>\n",
       "      <td>31.564216</td>\n",
       "      <td>-85.259634</td>\n",
       "    </tr>\n",
       "    <tr>\n",
       "      <th>2</th>\n",
       "      <td>AL</td>\n",
       "      <td>100460</td>\n",
       "      <td>2403063</td>\n",
       "      <td>Adamsville city</td>\n",
       "      <td>25</td>\n",
       "      <td>A</td>\n",
       "      <td>4522</td>\n",
       "      <td>1990</td>\n",
       "      <td>65083153</td>\n",
       "      <td>29719</td>\n",
       "      <td>25.129</td>\n",
       "      <td>0.011</td>\n",
       "      <td>33.605750</td>\n",
       "      <td>-86.974650</td>\n",
       "    </tr>\n",
       "    <tr>\n",
       "      <th>3</th>\n",
       "      <td>AL</td>\n",
       "      <td>100484</td>\n",
       "      <td>2405123</td>\n",
       "      <td>Addison town</td>\n",
       "      <td>43</td>\n",
       "      <td>A</td>\n",
       "      <td>758</td>\n",
       "      <td>351</td>\n",
       "      <td>9753286</td>\n",
       "      <td>83426</td>\n",
       "      <td>3.766</td>\n",
       "      <td>0.032</td>\n",
       "      <td>34.202689</td>\n",
       "      <td>-87.177901</td>\n",
       "    </tr>\n",
       "    <tr>\n",
       "      <th>4</th>\n",
       "      <td>AL</td>\n",
       "      <td>100676</td>\n",
       "      <td>2405125</td>\n",
       "      <td>Akron town</td>\n",
       "      <td>43</td>\n",
       "      <td>A</td>\n",
       "      <td>356</td>\n",
       "      <td>205</td>\n",
       "      <td>1778126</td>\n",
       "      <td>13850</td>\n",
       "      <td>0.687</td>\n",
       "      <td>0.005</td>\n",
       "      <td>32.879417</td>\n",
       "      <td>-87.741757</td>\n",
       "    </tr>\n",
       "    <tr>\n",
       "      <th>5</th>\n",
       "      <td>AL</td>\n",
       "      <td>100820</td>\n",
       "      <td>2403069</td>\n",
       "      <td>Alabaster city</td>\n",
       "      <td>25</td>\n",
       "      <td>A</td>\n",
       "      <td>30352</td>\n",
       "      <td>11295</td>\n",
       "      <td>64860720</td>\n",
       "      <td>747585</td>\n",
       "      <td>25.043</td>\n",
       "      <td>0.289</td>\n",
       "      <td>33.214355</td>\n",
       "      <td>-86.823080</td>\n",
       "    </tr>\n",
       "    <tr>\n",
       "      <th>6</th>\n",
       "      <td>AL</td>\n",
       "      <td>100988</td>\n",
       "      <td>2403074</td>\n",
       "      <td>Albertville city</td>\n",
       "      <td>25</td>\n",
       "      <td>A</td>\n",
       "      <td>21160</td>\n",
       "      <td>8128</td>\n",
       "      <td>68780663</td>\n",
       "      <td>258708</td>\n",
       "      <td>26.556</td>\n",
       "      <td>0.100</td>\n",
       "      <td>34.263130</td>\n",
       "      <td>-86.210660</td>\n",
       "    </tr>\n",
       "    <tr>\n",
       "      <th>7</th>\n",
       "      <td>AL</td>\n",
       "      <td>101132</td>\n",
       "      <td>2403077</td>\n",
       "      <td>Alexander City city</td>\n",
       "      <td>25</td>\n",
       "      <td>A</td>\n",
       "      <td>14875</td>\n",
       "      <td>6834</td>\n",
       "      <td>105771865</td>\n",
       "      <td>737649</td>\n",
       "      <td>40.839</td>\n",
       "      <td>0.285</td>\n",
       "      <td>32.927240</td>\n",
       "      <td>-85.937122</td>\n",
       "    </tr>\n",
       "    <tr>\n",
       "      <th>8</th>\n",
       "      <td>AL</td>\n",
       "      <td>101180</td>\n",
       "      <td>2402638</td>\n",
       "      <td>Alexandria CDP</td>\n",
       "      <td>57</td>\n",
       "      <td>S</td>\n",
       "      <td>3917</td>\n",
       "      <td>1599</td>\n",
       "      <td>28786548</td>\n",
       "      <td>33123</td>\n",
       "      <td>11.115</td>\n",
       "      <td>0.013</td>\n",
       "      <td>33.765175</td>\n",
       "      <td>-85.879596</td>\n",
       "    </tr>\n",
       "    <tr>\n",
       "      <th>9</th>\n",
       "      <td>AL</td>\n",
       "      <td>101228</td>\n",
       "      <td>2403080</td>\n",
       "      <td>Aliceville city</td>\n",
       "      <td>25</td>\n",
       "      <td>A</td>\n",
       "      <td>2486</td>\n",
       "      <td>1164</td>\n",
       "      <td>11814094</td>\n",
       "      <td>0</td>\n",
       "      <td>4.561</td>\n",
       "      <td>0.000</td>\n",
       "      <td>33.123744</td>\n",
       "      <td>-88.159445</td>\n",
       "    </tr>\n",
       "  </tbody>\n",
       "</table>\n",
       "</div>"
      ],
      "text/plain": [
       "  USPS   GEOID  ANSICODE                 NAME LSAD FUNCSTAT  POP10   HU10  \\\n",
       "0   AL  100100   2582661           Abanda CDP   57        S    192     79   \n",
       "1   AL  100124   2403054       Abbeville city   25        A   2688   1255   \n",
       "2   AL  100460   2403063      Adamsville city   25        A   4522   1990   \n",
       "3   AL  100484   2405123         Addison town   43        A    758    351   \n",
       "4   AL  100676   2405125           Akron town   43        A    356    205   \n",
       "5   AL  100820   2403069       Alabaster city   25        A  30352  11295   \n",
       "6   AL  100988   2403074     Albertville city   25        A  21160   8128   \n",
       "7   AL  101132   2403077  Alexander City city   25        A  14875   6834   \n",
       "8   AL  101180   2402638       Alexandria CDP   57        S   3917   1599   \n",
       "9   AL  101228   2403080      Aliceville city   25        A   2486   1164   \n",
       "\n",
       "       ALAND  AWATER  ALAND_SQMI  AWATER_SQMI   INTPTLAT  INTPTLONG  \n",
       "0    7764035   34284       2.998        0.013  33.091627 -85.527029  \n",
       "1   40255352  107642      15.543        0.042  31.564216 -85.259634  \n",
       "2   65083153   29719      25.129        0.011  33.605750 -86.974650  \n",
       "3    9753286   83426       3.766        0.032  34.202689 -87.177901  \n",
       "4    1778126   13850       0.687        0.005  32.879417 -87.741757  \n",
       "5   64860720  747585      25.043        0.289  33.214355 -86.823080  \n",
       "6   68780663  258708      26.556        0.100  34.263130 -86.210660  \n",
       "7  105771865  737649      40.839        0.285  32.927240 -85.937122  \n",
       "8   28786548   33123      11.115        0.013  33.765175 -85.879596  \n",
       "9   11814094       0       4.561        0.000  33.123744 -88.159445  "
      ]
     },
     "execution_count": 5,
     "metadata": {},
     "output_type": "execute_result"
    }
   ],
   "source": [
    "df.head(10)"
   ]
  },
  {
   "cell_type": "code",
   "execution_count": 25,
   "metadata": {},
   "outputs": [],
   "source": [
    "class DensityScorer:\n",
    "    \n",
    "    def __init__(self, path):\n",
    "        \n",
    "        df = pd.read_table(path, encoding='ISO-8859-1')\n",
    "        \n",
    "        self.cities = [\n",
    "            (r.INTPTLAT, r.INTPTLONG, r.POP10)\n",
    "            for r in df.itertuples()\n",
    "        ]\n",
    "        \n",
    "    def __repr__(self):\n",
    "        return '%s<%d cities>' % (self.__class__.__name__, len(self.cities))\n",
    "    \n",
    "    def __call__(self, lat, lon, std=20):\n",
    "        \n",
    "        score = 0\n",
    "        for tlat, tlon, pop in tqdm(self.cities):\n",
    "            d = great_circle((lat, lon), (tlat, tlon)).miles\n",
    "            w = stats.norm.pdf(d, 0, std)\n",
    "            score += pop * w\n",
    "            \n",
    "        return score"
   ]
  },
  {
   "cell_type": "code",
   "execution_count": 26,
   "metadata": {},
   "outputs": [],
   "source": [
    "ds = DensityScorer('../data/Gaz_places_national.txt')"
   ]
  },
  {
   "cell_type": "code",
   "execution_count": 27,
   "metadata": {},
   "outputs": [
    {
     "data": {
      "text/plain": [
       "DensityScorer<29514 cities>"
      ]
     },
     "execution_count": 27,
     "metadata": {},
     "output_type": "execute_result"
    }
   ],
   "source": [
    "ds"
   ]
  },
  {
   "cell_type": "code",
   "execution_count": 28,
   "metadata": {},
   "outputs": [
    {
     "name": "stderr",
     "output_type": "stream",
     "text": [
      "100%|██████████| 29514/29514 [00:03<00:00, 7722.40it/s]\n"
     ]
    },
    {
     "data": {
      "text/plain": [
       "176320.22477088476"
      ]
     },
     "execution_count": 28,
     "metadata": {},
     "output_type": "execute_result"
    }
   ],
   "source": [
    "ds(34.04, -118.27)"
   ]
  },
  {
   "cell_type": "code",
   "execution_count": 19,
   "metadata": {},
   "outputs": [
    {
     "name": "stderr",
     "output_type": "stream",
     "text": [
      "100%|██████████| 29514/29514 [00:03<00:00, 7740.12it/s]\n"
     ]
    },
    {
     "data": {
      "text/plain": [
       "6944.444688714793"
      ]
     },
     "execution_count": 19,
     "metadata": {},
     "output_type": "execute_result"
    }
   ],
   "source": [
    "ds(36.07, -119.11)"
   ]
  },
  {
   "cell_type": "code",
   "execution_count": 20,
   "metadata": {},
   "outputs": [
    {
     "name": "stderr",
     "output_type": "stream",
     "text": [
      "100%|██████████| 29514/29514 [00:03<00:00, 7788.78it/s]\n"
     ]
    },
    {
     "data": {
      "text/plain": [
       "4059.0853360338015"
      ]
     },
     "execution_count": 20,
     "metadata": {},
     "output_type": "execute_result"
    }
   ],
   "source": [
    "ds(33.39, -87.53)"
   ]
  },
  {
   "cell_type": "code",
   "execution_count": 24,
   "metadata": {},
   "outputs": [
    {
     "name": "stderr",
     "output_type": "stream",
     "text": [
      "100%|██████████| 29514/29514 [00:03<00:00, 7684.16it/s]\n"
     ]
    },
    {
     "data": {
      "text/plain": [
       "504.96083798822457"
      ]
     },
     "execution_count": 24,
     "metadata": {},
     "output_type": "execute_result"
    }
   ],
   "source": [
    "ds(38.80, -80.80)"
   ]
  },
  {
   "cell_type": "code",
   "execution_count": 32,
   "metadata": {},
   "outputs": [
    {
     "name": "stderr",
     "output_type": "stream",
     "text": [
      "100%|██████████| 29514/29514 [00:03<00:00, 7792.20it/s]\n"
     ]
    },
    {
     "data": {
      "text/plain": [
       "16859.59397502989"
      ]
     },
     "execution_count": 32,
     "metadata": {},
     "output_type": "execute_result"
    }
   ],
   "source": [
    "ds(36.73, -119.73)"
   ]
  },
  {
   "cell_type": "code",
   "execution_count": 33,
   "metadata": {},
   "outputs": [
    {
     "name": "stderr",
     "output_type": "stream",
     "text": [
      "100%|██████████| 29514/29514 [00:03<00:00, 7803.05it/s]\n"
     ]
    },
    {
     "data": {
      "text/plain": [
       "34587.89816186251"
      ]
     },
     "execution_count": 33,
     "metadata": {},
     "output_type": "execute_result"
    }
   ],
   "source": [
    "ds(38.55, -121.56)"
   ]
  },
  {
   "cell_type": "code",
   "execution_count": 36,
   "metadata": {},
   "outputs": [
    {
     "name": "stderr",
     "output_type": "stream",
     "text": [
      "100%|██████████| 29514/29514 [00:06<00:00, 4222.28it/s]\n"
     ]
    }
   ],
   "source": [
    "r = ds(42.52, -115.99)"
   ]
  },
  {
   "cell_type": "code",
   "execution_count": 39,
   "metadata": {},
   "outputs": [
    {
     "data": {
      "text/plain": [
       "float"
      ]
     },
     "execution_count": 39,
     "metadata": {},
     "output_type": "execute_result"
    }
   ],
   "source": [
    "type(float(r))"
   ]
  },
  {
   "cell_type": "code",
   "execution_count": null,
   "metadata": {},
   "outputs": [],
   "source": []
  }
 ],
 "metadata": {
  "kernelspec": {
   "display_name": "Python 3",
   "language": "python",
   "name": "python3"
  },
  "language_info": {
   "codemirror_mode": {
    "name": "ipython",
    "version": 3
   },
   "file_extension": ".py",
   "mimetype": "text/x-python",
   "name": "python",
   "nbconvert_exporter": "python",
   "pygments_lexer": "ipython3",
   "version": "3.6.5"
  }
 },
 "nbformat": 4,
 "nbformat_minor": 2
}
